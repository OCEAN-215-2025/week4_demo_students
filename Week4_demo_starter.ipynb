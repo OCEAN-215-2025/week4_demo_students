{
 "cells": [
  {
   "cell_type": "markdown",
   "id": "ee4da64e-3f35-4b0a-9958-e92f8231abec",
   "metadata": {},
   "source": [
    "# Week 4 Demo"
   ]
  },
  {
   "cell_type": "markdown",
   "id": "537c72bd-f5ff-49b3-acbd-195a6dc814f7",
   "metadata": {},
   "source": [
    "## Creating 1D Numpy arrays "
   ]
  },
  {
   "cell_type": "code",
   "execution_count": null,
   "id": "42998cf7-ca52-4664-84cf-a4534db5f239",
   "metadata": {},
   "outputs": [],
   "source": [
    "import numpy as np"
   ]
  },
  {
   "cell_type": "code",
   "execution_count": null,
   "id": "678a3dcb-562d-4727-9658-5fb75cd1e660",
   "metadata": {},
   "outputs": [],
   "source": [
    "l1 = [1, 2, 3, 4, 5] # These are lists\n",
    "l2 = [6, 7, 8, 9, 10]\n",
    "l1 + l2 # lists act differently. They do not inherently allow vectorized operations"
   ]
  },
  {
   "cell_type": "markdown",
   "id": "1d03b687-dbde-4c99-8fa7-108de9d7fb0e",
   "metadata": {},
   "source": [
    "Some common numpy array creation functions:"
   ]
  },
  {
   "cell_type": "code",
   "execution_count": null,
   "id": "a58a3ab4-6c2b-40dc-9901-8bfc250e9c69",
   "metadata": {},
   "outputs": [],
   "source": [
    "array1 = np.array([1, 2, 3])\n",
    "display(array1)\n",
    "print(array1.dtype) # Numpy will automatically assign a datatype to an array depending on the input values' type"
   ]
  },
  {
   "cell_type": "code",
   "execution_count": null,
   "id": "271b709b-5f85-42da-8b80-9345749e629e",
   "metadata": {},
   "outputs": [],
   "source": [
    "array2 = np.array([1.05, 1, -3])\n",
    "display(array2)\n",
    "print(array2.dtype) # Input list had floats, so numpy casts all input values to a float"
   ]
  },
  {
   "cell_type": "code",
   "execution_count": null,
   "id": "154372f8-decb-4675-80dd-8f8c4e0949f1",
   "metadata": {},
   "outputs": [],
   "source": [
    "empty = np.array([]) # One way to make an empty array for initialization before a loop, for example\n",
    "print(empty)"
   ]
  },
  {
   "cell_type": "markdown",
   "id": "344bfff4-5a47-47d2-a368-fe62d0885b96",
   "metadata": {},
   "source": [
    "`np.arange()` syntax:\n",
    "\n",
    "```python\n",
    "np.arange(start (inclusive), stop (exclusive), step)\n",
    "```\n",
    "\n",
    "Notes:\n",
    "- Only providing one input will automatically start at 0 and go up to (but not including) that input value by ones\n",
    "\n",
    "`np.linspace()` syntax:\n",
    "\n",
    "```python\n",
    "np.linspace(start (inclusive), stop (inclusive), step)\n",
    "```\n",
    "\n",
    "Notes:\n",
    "- Linspace requires at least start and stop inputs\n",
    "- Will assume 50 equally spaced values between start and stop if step is omitted"
   ]
  },
  {
   "cell_type": "code",
   "execution_count": null,
   "id": "4339017c-20b4-408c-94f9-7cb9185f2ad8",
   "metadata": {},
   "outputs": [],
   "source": [
    "np.linspace(1,40, 40) # To get array of values ascending from 1 to 40 at intervals of 1"
   ]
  },
  {
   "cell_type": "code",
   "execution_count": null,
   "id": "c61ed149-7564-4472-b981-3fc4bee7282e",
   "metadata": {},
   "outputs": [],
   "source": [
    "array3 = np.arange(0, 10, 3)\n",
    "display(array3)\n",
    "\n",
    "array4 = np.arange(20)\n",
    "display(array4)"
   ]
  },
  {
   "cell_type": "code",
   "execution_count": null,
   "id": "f30e7796-2fd2-4665-89be-45a4e3b3fb7f",
   "metadata": {},
   "outputs": [],
   "source": [
    "array5 = np.zeros(4) # Creates numpy array of zeros of size 4 \n",
    "print(array5)\n",
    "\n",
    "array6 = np.ones(4) # Creates numpy array of ones of size 4\n",
    "print(array6) \n",
    "\n",
    "array7 = np.zeros_like(array6) # Creates numpy array of zeros of size array6 (e.g. useful if you want to make a new array\n",
    "# of the same length of another array that may be super long\n",
    "print(array7)"
   ]
  },
  {
   "cell_type": "code",
   "execution_count": null,
   "id": "edd7f0be-7dda-45aa-9d60-56997ecb57f1",
   "metadata": {},
   "outputs": [],
   "source": [
    "x = np.array([1, 2, 3, 4, 5]) # OR x = np.array(l1)\n",
    "y = np.array([6, 7, 8, 9]) # OR y = np.array[l2]\n",
    "print(x)"
   ]
  },
  {
   "cell_type": "code",
   "execution_count": null,
   "id": "12f787dc-ce8f-47b7-9c1e-2c718c6e0699",
   "metadata": {},
   "outputs": [],
   "source": [
    "concat = np.concatenate((x, y)) # The same as adding two lists with +\n",
    "print(concat)"
   ]
  },
  {
   "cell_type": "markdown",
   "id": "2d2fd21a-0559-4dc0-8034-bfafabab6a55",
   "metadata": {},
   "source": [
    "## Vectorized Operations - Strength of Numpy"
   ]
  },
  {
   "cell_type": "markdown",
   "id": "e1b8b9dd-4ad9-43e6-8412-153854601436",
   "metadata": {},
   "source": [
    "# POLLEV 1:\n",
    "## What will happen when I run this block?"
   ]
  },
  {
   "cell_type": "markdown",
   "id": "b35a9100-b257-4971-b946-a72cc85601ca",
   "metadata": {},
   "source": [
    "```python\n",
    "x + y\n",
    "```"
   ]
  },
  {
   "cell_type": "code",
   "execution_count": null,
   "id": "b84c5362-9569-4ca8-9da4-28ac57a06e01",
   "metadata": {},
   "outputs": [],
   "source": [
    "print(x.size)\n",
    "print(y.shape) # Two ways to figure out the amount of elements in an array"
   ]
  },
  {
   "cell_type": "code",
   "execution_count": null,
   "id": "6595f898-6136-4613-b833-db804a5a547f",
   "metadata": {},
   "outputs": [],
   "source": [
    "y = np.array([6, 7, 8, 9, 10]) # Make sure our array is same size as the other we are adding \n",
    "a = x + y # This is adding the two arrays element-wise (vectorization)!\n",
    "print(a)"
   ]
  },
  {
   "cell_type": "markdown",
   "id": "58059038-1ca4-416e-8287-cf3a046caddb",
   "metadata": {},
   "source": [
    "### Mapping functions"
   ]
  },
  {
   "cell_type": "code",
   "execution_count": null,
   "id": "02461336-d3fe-477a-ade4-2a8be865fa9d",
   "metadata": {},
   "outputs": [],
   "source": [
    "# Mapping (element wise operations)\n",
    "print(a*4)\n",
    "print(a - 3)\n",
    "print(3*(a**2) + 5/(a**(1/2)))\n",
    "print(np.exp(a)) # same as e^(a)\n",
    "print(np.log(a)) # natural log\n",
    "print(np.sin(a)) # trig function sin"
   ]
  },
  {
   "cell_type": "markdown",
   "id": "9169f2c4-d17d-4a45-b95d-a7621cee00d7",
   "metadata": {},
   "source": [
    "### *A key difference between python lists and numpy arrays: You do not always need for loops for element-wise operations or stats!*"
   ]
  },
  {
   "cell_type": "code",
   "execution_count": null,
   "id": "dc981e02-bd2e-4273-930a-68c47fdd3eb4",
   "metadata": {},
   "outputs": [],
   "source": [
    "# Using just lists:\n",
    "my_list = [-3, 5, -2, 1, -3, -6, 5]\n",
    "\n",
    "# Want absolute value of list:\n",
    "new_list = []\n",
    "for i in my_list:\n",
    "    if i < 0:\n",
    "        new_list.append(i*-1)\n",
    "    else:\n",
    "        new_list.append(i)\n",
    "\n",
    "print(new_list)\n",
    "\n",
    "# VERSUS using numpy:\n",
    "my_array = np.array(my_list)\n",
    "new_array = np.abs(my_array) # Just use numpy's absolute value function!\n",
    "display(new_array)\n"
   ]
  },
  {
   "cell_type": "markdown",
   "id": "9bf231c6-edb6-4dee-855d-e07969f53517",
   "metadata": {},
   "source": [
    "## Numpy Indexing and Slicing"
   ]
  },
  {
   "cell_type": "code",
   "execution_count": null,
   "id": "97c2ba04-700b-4452-9213-c4069f954f9b",
   "metadata": {},
   "outputs": [],
   "source": [
    "# Indexing\n",
    "array = np.arange(0, 101, 10)\n",
    "print(array)\n",
    "print(array[3])\n",
    "print(array[-2])\n",
    "print(array[2:7:2])"
   ]
  },
  {
   "cell_type": "markdown",
   "id": "e6b8a6d1-2e48-4602-bd62-7e1c703deeba",
   "metadata": {},
   "source": [
    "## Boolean indexing/slicing in Numpy"
   ]
  },
  {
   "cell_type": "markdown",
   "id": "fe4c7fef-3320-4ba7-b6ee-632fc1a49051",
   "metadata": {},
   "source": [
    "# PollEV 2\n",
    "## How many \"False\" values (if any) will be in the array called mask?"
   ]
  },
  {
   "cell_type": "code",
   "execution_count": null,
   "id": "3b688e13-fa8c-4c8b-b674-6ad826da7a82",
   "metadata": {},
   "outputs": [],
   "source": [
    "data = np.array([25, 2, 26, 29, 22, 30, 24, 100, 27], dtype = float) # Say there is some temperature data \n",
    "# that you know can't be outside a certain range\n",
    "# You must specify the dtype in the above line to a float because None is incompatible with int types\n",
    "mask = (data > 20) & (data < 100) # Construct this boolean \"mask\" with our conditionals "
   ]
  },
  {
   "cell_type": "code",
   "execution_count": null,
   "id": "44696ac8-9143-402e-893d-8cc1b84e3dcb",
   "metadata": {},
   "outputs": [],
   "source": [
    "print(data[mask]) # Index our numpy array with our boolean mask"
   ]
  },
  {
   "cell_type": "code",
   "execution_count": null,
   "id": "25041383-bf28-4a0c-8792-8f1172ed4e2b",
   "metadata": {},
   "outputs": [],
   "source": [
    "data[~mask] = None # We want to replace the mask values of False with True to change them to nans\n",
    "print(data)"
   ]
  },
  {
   "cell_type": "markdown",
   "id": "042ed330-d3bd-4ff3-a934-fefcbc63f9ec",
   "metadata": {},
   "source": [
    "# Think Pair Share:\n",
    "## Why is using \"nan\" for suspect values better than deleting them outright?"
   ]
  },
  {
   "cell_type": "markdown",
   "id": "9c2de3ed-44cb-40a0-ac33-7ed7720f0f68",
   "metadata": {},
   "source": [
    "## Numpy statistics"
   ]
  },
  {
   "cell_type": "code",
   "execution_count": null,
   "id": "39e991a2-4ffa-4839-bf27-7bed9d39ac28",
   "metadata": {},
   "outputs": [],
   "source": [
    "avg = np.mean(data) # Take mean of 1D Numpy array\n",
    "print(avg)"
   ]
  },
  {
   "cell_type": "code",
   "execution_count": null,
   "id": "4a879805-799b-4c1e-8448-b8ec25e86080",
   "metadata": {},
   "outputs": [],
   "source": [
    "avg = np.nanmean(data) # Take mean of 1D Numpy array but skip over NaN values\n",
    "print(avg.round(3))"
   ]
  },
  {
   "cell_type": "code",
   "execution_count": null,
   "id": "9c056344-ecab-4780-acce-dfae46dc6189",
   "metadata": {},
   "outputs": [],
   "source": [
    "max = np.nanmax(data) # Get maximum value of array while skipping NaNs\n",
    "min = np.nanmin(data) # Get minimum value of array while skipping NaNs\n",
    "print('Maximum is ', max)\n",
    "print('Minimum is ', min)"
   ]
  },
  {
   "cell_type": "markdown",
   "id": "48c0f994-679c-4256-82e2-ce96570a3100",
   "metadata": {},
   "source": [
    "### Full 1D Numpy data process example:"
   ]
  },
  {
   "cell_type": "code",
   "execution_count": null,
   "id": "9def39cd-10fa-41b1-9f2f-279fb453eec2",
   "metadata": {},
   "outputs": [],
   "source": [
    "heights = np.array([\n",
    "    177, 169, 182, 173, 171, 179, 179, 171, 175, 163, \n",
    "    180, 179, 179, 164, 173, 175, 177, 176, 181, 167, \n",
    "    173, 171, 175, 177, 181, 172, 178, 165, 174, 180, \n",
    "    173, 176, 180, 180, 179, 174, 175, 173, 179, 186, \n",
    "    175, 172, 175, 164, 176, 170, 174, 175, 178, 176\n",
    "]) # My data\n",
    "\n",
    "print(heights.size)"
   ]
  },
  {
   "cell_type": "code",
   "execution_count": null,
   "id": "b75a36f0-50ae-44cd-99b2-36b06e22f11d",
   "metadata": {},
   "outputs": [],
   "source": [
    "people = np.linspace(1, 50, 50) # Person 1 to 50\n",
    "print(people)"
   ]
  },
  {
   "cell_type": "code",
   "execution_count": null,
   "id": "00e54238-e3fb-4a4e-95ef-fd0fe3ac7531",
   "metadata": {},
   "outputs": [],
   "source": [
    "max_height = np.max(heights) # Find the maximum height\n",
    "print(max_height)"
   ]
  },
  {
   "cell_type": "markdown",
   "id": "b1e78b56-7345-438b-a0cc-114bd4ee32a2",
   "metadata": {},
   "source": [
    "# PollEV 3\n",
    "## If I want to find the **index** of the tallest height from the array heights, what numpy function do I use?"
   ]
  },
  {
   "cell_type": "code",
   "execution_count": null,
   "id": "4b7c56de-de3c-4351-acd1-3e59e2e27992",
   "metadata": {},
   "outputs": [],
   "source": [
    "# Finding index of maximum height\n",
    "tallest_person = people[max_index] # Indexing \n",
    "print(tallest_person) # The tallest person\n",
    "print(max_index) # The index of the tallest person - notice how it is different than the actual number of the person?\n",
    "print(heights[max_index]) # Height of tallest person (can also just use heights.max here)"
   ]
  },
  {
   "cell_type": "code",
   "execution_count": null,
   "id": "3305fa07-d6c2-4a53-83ad-18b5ddbc6466",
   "metadata": {},
   "outputs": [],
   "source": [
    "# More numpy stats:\n",
    "print(np.mean(heights)) # Mean\n",
    "print(np.var(heights)) # Variance\n",
    "print(np.std(heights)) # Standard Deviation\n",
    "print(np.median(heights)) # Median\n",
    "print(np.quantile(heights, 0.25)) # Quantile specified by decimal\n",
    "print(np.sum(heights)) # Sum\n",
    "\n",
    "# Plus more!"
   ]
  },
  {
   "cell_type": "code",
   "execution_count": null,
   "id": "683d92bf-c463-4a19-a39a-f7cb7a752724",
   "metadata": {},
   "outputs": [],
   "source": [
    "unorg = np.array([10, 12, 6, 1, 4, 100, 14, 169, 18, 65])\n",
    "print(np.sort(unorg)) # Order an array by ascending numbers"
   ]
  }
 ],
 "metadata": {
  "kernelspec": {
   "display_name": "Python 3 (ipykernel)",
   "language": "python",
   "name": "python3"
  },
  "language_info": {
   "codemirror_mode": {
    "name": "ipython",
    "version": 3
   },
   "file_extension": ".py",
   "mimetype": "text/x-python",
   "name": "python",
   "nbconvert_exporter": "python",
   "pygments_lexer": "ipython3",
   "version": "3.11.13"
  }
 },
 "nbformat": 4,
 "nbformat_minor": 5
}
